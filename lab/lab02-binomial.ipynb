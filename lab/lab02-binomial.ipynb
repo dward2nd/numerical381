{
 "cells": [
  {
   "cell_type": "markdown",
   "metadata": {
    "collapsed": false
   },
   "source": [
    "## Statement"
   ]
  },
  {
   "cell_type": "markdown",
   "metadata": {
    "collapsed": false
   },
   "source": [
    "Write two functions in Julia to compute the binomial coefficient $\\binom{m}{k}$ using the following formulas:\n",
    "\n",
    "1. $\\binom{m}{k} = \\frac{m!}{k!(m-k)!}$ ($m!$ is *$\\text{factorial(x)}$* in Julia.)\n",
    "2.  $\\binom{m}{k} = \\frac{m}{k}\\frac{m-1}{k-1}\\times...\\times\\frac{m-k+1}{1}$\n",
    "\n",
    "Then, experiment with various values for $m, k$ to see which formula causes overflow first."
   ]
  },
  {
   "cell_type": "markdown",
   "metadata": {
    "collapsed": false
   },
   "source": [
    "## Numerical Solution"
   ]
  },
  {
   "cell_type": "code",
   "execution_count": 65,
   "metadata": {
    "collapsed": false
   },
   "outputs": [
    {
     "data": {
      "text/plain": [
       "binom2 (generic function with 2 methods)"
      ]
     },
     "execution_count": 65,
     "metadata": {
     },
     "output_type": "execute_result"
    }
   ],
   "source": [
    "function binom1(m::Int64, k::Int64)::Int64\n",
    "    fm = Int64(factorial(big(m)))\n",
    "    fk = Int64(factorial(big(k)))\n",
    "    fmk = Int64(factorial(big(m - k)))\n",
    "    return fm / fk / fmk\n",
    "end\n",
    "\n",
    "function binom2(m::Int64, k::Int64)::Float64\n",
    "    if k == 0\n",
    "        return 1\n",
    "    end\n",
    "    return prod((m - i) / (k - i) for i in 0:k-1)\n",
    "end"
   ]
  },
  {
   "cell_type": "code",
   "execution_count": 37,
   "metadata": {
    "collapsed": false
   },
   "outputs": [
   ],
   "source": [
    "using Printf"
   ]
  },
  {
   "cell_type": "code",
   "execution_count": 83,
   "metadata": {
    "collapsed": false
   },
   "outputs": [
    {
     "name": "stdout",
     "output_type": "stream",
     "text": [
      "Overflow when computing binom1(21, 1)\n"
     ]
    }
   ],
   "source": [
    "flag = true\n",
    "for m in 1:200\n",
    "    for k in 1:m-1\n",
    "        try\n",
    "            binom1(m, k)\n",
    "        catch ex\n",
    "            println(\"Overflow when computing binom1($m, $k)\")\n",
    "            flag = false\n",
    "        end\n",
    "        if !flag\n",
    "            break\n",
    "        end\n",
    "    end\n",
    "    if !flag\n",
    "        break\n",
    "    end\n",
    "end\n",
    "if flag\n",
    "    println(\"binom1(m, k) does not have an overflow problem.\")\n",
    "end"
   ]
  },
  {
   "cell_type": "code",
   "execution_count": 82,
   "metadata": {
    "collapsed": false
   },
   "outputs": [
    {
     "name": "stdout",
     "output_type": "stream",
     "text": [
      "binom2(m, k) does not have an overflow problem.\n"
     ]
    }
   ],
   "source": [
    "flag = true\n",
    "for m in 1:200\n",
    "    for k in 1:m-1\n",
    "        try\n",
    "            binom2(m, k)\n",
    "        catch ex\n",
    "            println(\"Overflow when computing binom2($m, $k)\")\n",
    "            flag = false\n",
    "        end\n",
    "        if !flag\n",
    "            break\n",
    "        end\n",
    "    end\n",
    "    if !flag\n",
    "        break\n",
    "    end\n",
    "end\n",
    "if flag\n",
    "    println(\"binom2(m, k) does not have an overflow problem.\")\n",
    "end"
   ]
  },
  {
   "cell_type": "markdown",
   "metadata": {
    "collapsed": false
   },
   "source": [
    "**Therefore,** formula (2) are significantly less prone to overflow than formula (1)."
   ]
  }
 ],
 "metadata": {
  "kernelspec": {
   "argv": [
    "/ext/julia/julia-1.9/bin/julia",
    "-i",
    "--startup-file=yes",
    "--color=yes",
    "/ext/julia/depot/packages/IJulia/Vo51o/src/kernel.jl",
    "{connection_file}"
   ],
   "display_name": "Julia 1.9",
   "env": {
    "JULIA_DEPOT_PATH": "/home/user/.julia/:/ext/julia/depot/",
    "JULIA_PROJECT": "/home/user/.julia/environment/v1.9"
   },
   "language": "julia",
   "metadata": {
    "cocalc": {
     "description": "The Julia Programming Language",
     "priority": 5,
     "url": "https://julialang.org/"
    }
   },
   "name": "julia-1.9",
   "resource_dir": "/ext/jupyter/kernels/julia-1.9"
  },
  "language_info": {
   "file_extension": ".jl",
   "mimetype": "application/julia",
   "name": "julia",
   "version": "1.9.1"
  }
 },
 "nbformat": 4,
 "nbformat_minor": 4
}