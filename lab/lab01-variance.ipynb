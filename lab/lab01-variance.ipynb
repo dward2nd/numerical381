{
 "cells": [
  {
   "cell_type": "markdown",
   "metadata": {
    "collapsed": false
   },
   "source": [
    "## Statement"
   ]
  },
  {
   "cell_type": "markdown",
   "metadata": {
    "collapsed": false
   },
   "source": [
    "There are two standard formulas given in textbooks to compute the sample variance $s^2$ of the number $x_1, ..., x_n$:\n",
    "\n",
    "$$\n",
    "\\begin{align*}\n",
    "s^2 &= \\frac{1}{n-1} \\Big[\\sum^n_{i=1} x_i^2 - \\frac{1}{n} \\Big(\\sum^n_{i=1} x_i\\Big)^2\\Big]\n",
    "&\\ \\ \\__\\mathrm{(1)}\\\\\n",
    "\\mathrm{First\\ compute\\ }\\bar{x} = \\frac{1}{n} \\sum^n_{i=1} x_i,\n",
    "\\mathrm{\\ and\\ then\\ }s^2 &= \\frac{1}{n-1} \\sum^n_{i=1} \\big(x_i-\\bar{x}\\big)^2\n",
    "&\\ \\ \\__\\mathrm{(2)}\n",
    "\\end{align*}\n",
    "$$\n",
    "\n",
    "Which one is more stable?"
   ]
  },
  {
   "cell_type": "markdown",
   "metadata": {
    "collapsed": false
   },
   "source": [
    "## Numerical Explanation"
   ]
  },
  {
   "cell_type": "code",
   "execution_count": 15,
   "metadata": {
    "collapsed": false
   },
   "outputs": [
    {
     "data": {
      "text/plain": [
       "3"
      ]
     },
     "execution_count": 15,
     "metadata": {
     },
     "output_type": "execute_result"
    }
   ],
   "source": [
    "X = [1.253, 2.411, 3.174]\n",
    "y = 0.935562\n",
    "n = size(X)[1]"
   ]
  },
  {
   "cell_type": "markdown",
   "metadata": {
    "collapsed": false
   },
   "source": [
    "Calculate $s^2$ using the **formula (1)**: \n",
    "\n",
    "$$s^2 = \\frac{1}{n-1} \\Big[\\sum^n_{i=1} x_i^2 - \\frac{1}{n} \\big(\\sum^n_{i=1} x_i\\big)^2\\Big]$$"
   ]
  },
  {
   "cell_type": "code",
   "execution_count": 17,
   "metadata": {
    "collapsed": false
   },
   "outputs": [
    {
     "data": {
      "text/plain": [
       "0.9355623333333352"
      ]
     },
     "execution_count": 17,
     "metadata": {
     },
     "output_type": "execute_result"
    }
   ],
   "source": [
    "s2_1 = 1 / (n - 1) * (sum(X.^2) - 1 / n * sum(X)^2)"
   ]
  },
  {
   "cell_type": "markdown",
   "metadata": {
    "collapsed": false
   },
   "source": [
    "Calculate $s^2$ using **formula (2)**, by first calculating $$\\bar{x} = \\frac{1}{n} \\sum^n_{i=1} x_i$$"
   ]
  },
  {
   "cell_type": "code",
   "execution_count": 18,
   "metadata": {
    "collapsed": false
   },
   "outputs": [
    {
     "data": {
      "text/plain": [
       "2.2793333333333328"
      ]
     },
     "execution_count": 18,
     "metadata": {
     },
     "output_type": "execute_result"
    }
   ],
   "source": [
    "x_bar = 1 / n * sum(X)"
   ]
  },
  {
   "cell_type": "markdown",
   "metadata": {
    "collapsed": false
   },
   "source": [
    "And then calculate using\n",
    "\n",
    "$$s^2 = \\frac{1}{n-1} \\sum^n_{i=1} \\big(x_i-\\bar{x}\\big)^2$$"
   ]
  },
  {
   "cell_type": "code",
   "execution_count": 21,
   "metadata": {
    "collapsed": false
   },
   "outputs": [
    {
     "data": {
      "text/plain": [
       "0.9355623333333334"
      ]
     },
     "execution_count": 21,
     "metadata": {
     },
     "output_type": "execute_result"
    }
   ],
   "source": [
    "s2_2 = 1 / (n - 1) * sum((X .- x_bar).^2)"
   ]
  },
  {
   "cell_type": "markdown",
   "metadata": {
    "collapsed": false
   },
   "source": [
    "Let's compare the errors between these 2 formulas:"
   ]
  },
  {
   "cell_type": "code",
   "execution_count": 22,
   "metadata": {
    "collapsed": false
   },
   "outputs": [
    {
     "name": "stdout",
     "output_type": "stream",
     "text": [
      "formula 1 error: 3.3333333515628283e-7\n",
      "formula 2 error: 3.33333333379926e-7\n",
      "--> formula 2 is more stable\n"
     ]
    }
   ],
   "source": [
    "println(\"formula 1 error: $(s2_1 - y)\")\n",
    "println(\"formula 2 error: $(s2_2 - y)\")\n",
    "\n",
    "if s2_1 - y < s2_2 - y\n",
    "    println(\"--> formula 1 is more stable\")\n",
    "else\n",
    "    println(\"--> formula 2 is more stable\")\n",
    "end"
   ]
  },
  {
   "cell_type": "markdown",
   "metadata": {
    "collapsed": false
   },
   "source": [
    "**According to the results, formula (2) is more stable than formula (1).**"
   ]
  },
  {
   "cell_type": "markdown",
   "metadata": {
    "collapsed": false
   },
   "source": [
    "## Mathematical Explanation"
   ]
  },
  {
   "cell_type": "markdown",
   "metadata": {
    "collapsed": false
   },
   "source": [
    "***If the given formulas are too complex, don't try to prove it with Jacobian's matrices or relative condition numbers. I tried and it sucks!***"
   ]
  },
  {
   "cell_type": "markdown",
   "metadata": {
    "collapsed": false
   },
   "source": [
    "There are 3 possible numerical instabilities:\n",
    "\n",
    "- Round-off error\n",
    "- Overflow / Underflow\n",
    "- Cancellation Error\n",
    "\n",
    "Let's consider them one by one."
   ]
  },
  {
   "cell_type": "markdown",
   "metadata": {
    "collapsed": false
   },
   "source": [
    "### Round-off error\n",
    "\n",
    "In this case, **formula (1) is prone to round-off error.** The squared terms $x_i^2$ and $(\\sum_{i=1}^nx_i)^2$ cause round-off errors due to the limitation of floating-point number representation, like the mantissa of [IEEE 754's double precision](https://en.wikipedia.org/wiki/Double-precision_floating-point_format). Such the product reduces the accuracy of the number.\n",
    "\n",
    "Meanwhile, **formula (2)** is also, but less, prone to round-off error because the squaring only happens once from $(x_i - \\overline{x})^2$."
   ]
  },
  {
   "cell_type": "markdown",
   "metadata": {
    "collapsed": false
   },
   "source": [
    "### Overflow / Underflow\n",
    "\n",
    "In this case, **formula (1) is more prone to overflow or underflow**, particularly the terms $x_i^2$ and especially $(\\sum^n_{i=1} x_i)^2$, which may be considerably large, where the value got squared. So it is possible that the squared product might exceed the capacity of, let's say, the *[IEEE 754's double precision](https://en.wikipedia.org/wiki/Double-precision_floating-point_format)*\n",
    "\n",
    "Meanwhile, **formula (2)** deducts each value of $x_i$ with $\\overline{x}$ that significantly reduces the magnitude (size of values, or absolute) of the data closer to zero before getting squared, so less likely to overflow/underflow.\n",
    "\n",
    "*Note: underflow can happen when a (big) negative number is presented in the sequence.*"
   ]
  },
  {
   "cell_type": "markdown",
   "metadata": {
    "collapsed": false
   },
   "source": [
    "### Cancellation Error\n",
    "\n",
    "**BOTH** **formula (1)** and **formula (2)** are prone to *cancellation error* because:\n",
    "\n",
    "- In **formula (1)**, $\\sum^n_{i=1} x_i^2 - \\frac{1}{n} (\\sum^n_{i=1} x_i)^2$ is the subtraction of floating-point numbers.\n",
    "- In **formula (2)**, $x_i-\\bar{x}$ is the subtraction of floating-point numbers.\n",
    "\n",
    "But **formula (1)** is worse because the subtraction may increase the error derived from both squared terms $x_i^2 - (\\sum_{i=1}^nx_i)^2$, which is the round-off error we mentioned earlier.\n",
    "\n",
    "$n-1$ doesn't count here because $n$ is an integer."
   ]
  },
  {
   "cell_type": "markdown",
   "metadata": {
    "collapsed": false
   },
   "source": [
    "### Conclusion\n",
    "\n",
    "From the discussion, **formula (1)** is obviously the most instable here because it causes all the mentioned problems: round-off error, overflow/underflow and cancellation error.\n",
    "\n",
    "**Formula (2)** is also prone to those errors, but much less severe."
   ]
  },
  {
   "cell_type": "markdown",
   "metadata": {
    "collapsed": false
   },
   "source": [
    "*Note: some of these summary got inspired by the [conversation with ChatGPT](https://chat.openai.com/share/064cb66a-4070-45d5-9a2f-2394c7270165).*"
   ]
  }
 ],
 "metadata": {
  "kernelspec": {
   "argv": [
    "/ext/julia/julia-1.9/bin/julia",
    "-i",
    "--startup-file=yes",
    "--color=yes",
    "/ext/julia/depot/packages/IJulia/Vo51o/src/kernel.jl",
    "{connection_file}"
   ],
   "display_name": "Julia 1.9",
   "env": {
    "JULIA_DEPOT_PATH": "/home/user/.julia/:/ext/julia/depot/",
    "JULIA_PROJECT": "/home/user/.julia/environment/v1.9"
   },
   "language": "julia",
   "metadata": {
    "cocalc": {
     "description": "The Julia Programming Language",
     "priority": 5,
     "url": "https://julialang.org/"
    }
   },
   "name": "julia-1.9",
   "resource_dir": "/ext/jupyter/kernels/julia-1.9"
  },
  "language_info": {
   "file_extension": ".jl",
   "mimetype": "application/julia",
   "name": "julia",
   "version": "1.9.1"
  }
 },
 "nbformat": 4,
 "nbformat_minor": 4
}