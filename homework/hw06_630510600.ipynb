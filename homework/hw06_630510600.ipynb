{
 "cells": [
  {
   "cell_type": "code",
   "execution_count": 2,
   "metadata": {
    "collapsed": false
   },
   "outputs": [
    {
     "data": {
      "text/plain": [
       "GaussSeidel (generic function with 2 methods)"
      ]
     },
     "metadata": {},
     "output_type": "display_data"
    }
   ],
   "source": [
    "function GaussSeidel(A, b, x, iter = 10)\n",
    "    for j in 1:iter\n",
    "        for i in 1:length(b)\n",
    "            x[i] = 0\n",
    "            x[i] = (b[i] - sum(x .* A[i, :])) / A[i, i]\n",
    "        end\n",
    "    end\n",
    "    \n",
    "    return x\n",
    "end"
   ]
  },
  {
   "cell_type": "code",
   "execution_count": 11,
   "metadata": {
    "collapsed": false
   },
   "outputs": [
    {
     "data": {
      "text/plain": [
       "isDDM (generic function with 1 method)"
      ]
     },
     "metadata": {},
     "output_type": "display_data"
    }
   ],
   "source": [
    "function isDDM(A)\n",
    "    row_n = size(A, 1)\n",
    "    gt_count = 0\n",
    "    \n",
    "    for i in 1:row_n\n",
    "        s = 0\n",
    "        for j in 1:row_n\n",
    "            if i == j\n",
    "                continue\n",
    "            end\n",
    "            s += abs(A[i, j])\n",
    "        end\n",
    "        \n",
    "        if abs(A[i, i]) > s\n",
    "            gt_count += 1\n",
    "        elseif abs(A[i, i]) < s\n",
    "            return false\n",
    "        end\n",
    "    end\n",
    "    \n",
    "    return gt_count > 0\n",
    "end"
   ]
  },
  {
   "cell_type": "markdown",
   "metadata": {
    "collapsed": false
   },
   "source": [
    "Test"
   ]
  },
  {
   "cell_type": "code",
   "execution_count": 1,
   "metadata": {},
   "outputs": [
    {
     "name": "stderr",
     "output_type": "stream",
     "text": [
      "\u001b[32m\u001b[1m    Updating\u001b[22m\u001b[39m registry at `~/.julia/registries/General.toml`\n"
     ]
    },
    {
     "name": "stderr",
     "output_type": "stream",
     "text": [
      "\u001b[32m\u001b[1m   Resolving\u001b[22m\u001b[39m package versions...\n"
     ]
    },
    {
     "name": "stderr",
     "output_type": "stream",
     "text": [
      "\u001b[32m\u001b[1m   Installed\u001b[22m\u001b[39m Munkres ─────── v0.2.0\n"
     ]
    },
    {
     "name": "stderr",
     "output_type": "stream",
     "text": [
      "\u001b[32m\u001b[1m   Installed\u001b[22m\u001b[39m EpollShim_jll ─ v0.0.20230411+0\n"
     ]
    },
    {
     "name": "stderr",
     "output_type": "stream",
     "text": [
      "\u001b[32m\u001b[1m    Updating\u001b[22m\u001b[39m `~/.julia/environments/v1.9/Project.toml`\n",
      "  \u001b[90m[4cefb923] \u001b[39m\u001b[92m+ Munkres v0.2.0\u001b[39m\n",
      "\u001b[32m\u001b[1m    Updating\u001b[22m\u001b[39m `~/.julia/environments/v1.9/Manifest.toml`\n",
      " "
     ]
    },
    {
     "name": "stderr",
     "output_type": "stream",
     "text": [
      " \u001b[90m[4cefb923] \u001b[39m\u001b[92m+ Munkres v0.2.0\u001b[39m\n",
      "  \u001b[90m[2702e6a9] \u001b[39m\u001b[92m+ EpollShim_jll v0.0.20230411+0\u001b[39m\n"
     ]
    },
    {
     "name": "stderr",
     "output_type": "stream",
     "text": [
      "\u001b[32m\u001b[1mPrecompiling\u001b[22m\u001b[39m "
     ]
    },
    {
     "name": "stderr",
     "output_type": "stream",
     "text": [
      "project...\n"
     ]
    },
    {
     "name": "stderr",
     "output_type": "stream",
     "text": [
      "\u001b[32m  ✓ \u001b[39mMunkres\n"
     ]
    },
    {
     "name": "stderr",
     "output_type": "stream",
     "text": [
      "\u001b[32m  ✓ \u001b[39m\u001b[90mEpollShim_jll\u001b[39m\n"
     ]
    },
    {
     "name": "stderr",
     "output_type": "stream",
     "text": [
      "\u001b[32m  ✓ \u001b[39m\u001b[90mWayland_jll\u001b[39m\n"
     ]
    },
    {
     "name": "stderr",
     "output_type": "stream",
     "text": [
      "\u001b[32m  ✓ \u001b[39m\u001b[90mxkbcommon_jll\u001b[39m\n"
     ]
    },
    {
     "name": "stderr",
     "output_type": "stream",
     "text": [
      "\u001b[32m  ✓ \u001b[39m\u001b[90mQt6Base_jll\u001b[39m\n"
     ]
    },
    {
     "name": "stderr",
     "output_type": "stream",
     "text": [
      "\u001b[32m  ✓ \u001b[39m\u001b[90mGR_jll\u001b[39m\n"
     ]
    },
    {
     "name": "stderr",
     "output_type": "stream",
     "text": [
      "\u001b[32m  ✓ \u001b[39m\u001b[90mGR\u001b[39m\n"
     ]
    },
    {
     "name": "stderr",
     "output_type": "stream",
     "text": [
      "\u001b[32m  ✓ \u001b[39mPlots\n"
     ]
    },
    {
     "name": "stderr",
     "output_type": "stream",
     "text": [
      "\u001b[32m  ✓ \u001b[39m\u001b[90mPlots → UnitfulExt\u001b[39m\n",
      "  9 dependencies successfully precompiled in 150 seconds. 170 already precompiled.\n"
     ]
    }
   ],
   "source": [
    "import Pkg; Pkg.add(\"Munkres\")"
   ]
  },
  {
   "cell_type": "code",
   "execution_count": 25,
   "metadata": {},
   "outputs": [
    {
     "name": "stdout",
     "output_type": "stream",
     "text": [
      "A is not diagonally dominant\n"
     ]
    }
   ],
   "source": [
    "A = [\n",
    "    12  3  -5;\n",
    "    3   7  13;\n",
    "    1   5   3;\n",
    "]\n",
    "b = [1, 28, 76]\n",
    "x = rand(length(b))\n",
    "\n",
    "if isDDM(A)\n",
    "    GaussSeidel(A, b, x, 10)\n",
    "    println(\"Result is \", x)\n",
    "else\n",
    "    row = munkres(A)\n",
    "    A = A[row, :]\n",
    "    \n",
    "    if isDDM(A)\n",
    "        GaussSeidel(A, b, x, 10)\n",
    "        println(\"Result is \", x)\n",
    "    else\n",
    "        println(\"A is not diagonally dominant\")\n",
    "    end\n",
    "end"
   ]
  },
  {
   "cell_type": "code",
   "execution_count": 27,
   "metadata": {
    "collapsed": false
   },
   "outputs": [
    {
     "name": "stdout",
     "output_type": "stream",
     "text": [
      "Result is [1.0, 3.0, 4.0]\n"
     ]
    }
   ],
   "source": [
    "using Munkres\n",
    "\n",
    "A = [\n",
    "    12  3  -5;\n",
    "    1  5  3;\n",
    "    3  7  13;\n",
    "]\n",
    "b = [1, 28, 76]\n",
    "x = rand(length(b))\n",
    "\n",
    "if isDDM(A)\n",
    "    GaussSeidel(A, b, x, 100)\n",
    "    println(\"Result is \", x)\n",
    "else\n",
    "    row = munkres(A)\n",
    "    A = A[row, :]\n",
    "    \n",
    "    if isDDM(A)\n",
    "        GaussSeidel(A, b, x, 100)\n",
    "        println(\"Result is \", x)\n",
    "    else\n",
    "        println(\"A is not diagonally dominant\")\n",
    "    end\n",
    "end"
   ]
  }
 ],
 "metadata": {
  "kernelspec": {
   "display_name": "Julia 1.9.3",
   "language": "julia",
   "name": "julia-1.9"
  },
  "language_info": {
   "file_extension": ".jl",
   "mimetype": "application/julia",
   "name": "julia",
   "version": "1.9.3"
  }
 },
 "nbformat": 4,
 "nbformat_minor": 4
}
