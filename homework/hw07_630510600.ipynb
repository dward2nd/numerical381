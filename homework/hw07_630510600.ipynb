{
 "cells": [
  {
   "cell_type": "code",
   "execution_count": 20,
   "metadata": {
    "collapsed": false
   },
   "outputs": [
    {
     "data": {
      "text/plain": [
       "secant (generic function with 2 methods)"
      ]
     },
     "execution_count": 20,
     "metadata": {
     },
     "output_type": "execute_result"
    }
   ],
   "source": [
    "function secant(f, x1, x2, iter = 10)\n",
    "    x3 = 0\n",
    "    for i in 1:iter\n",
    "        x3 = x2 - f(x2) * (x2 - x1) / (f(x2) - f(x1))\n",
    "        x1, x2 = x2, x3\n",
    "    end\n",
    "    return x3\n",
    "end"
   ]
  },
  {
   "cell_type": "markdown",
   "metadata": {
    "collapsed": false
   },
   "source": [
    "Test"
   ]
  },
  {
   "cell_type": "code",
   "execution_count": 23,
   "metadata": {
    "collapsed": false
   },
   "outputs": [
    {
     "name": "stdout",
     "output_type": "stream",
     "text": [
      "24.738633748750722\n",
      "24.73863375370596\n",
      "err = -2.0030369600798517e-10\n"
     ]
    }
   ],
   "source": [
    "f(x) = x^2 - 612\n",
    "\n",
    "x_root = 24.738633748750722\n",
    "x_est = secant(f, 10, 20, 10)\n",
    "\n",
    "println(x_root)\n",
    "println(x_est)\n",
    "println(\"err = $((x_root - x_est) / x_root)\")"
   ]
  }
 ],
 "metadata": {
  "kernelspec": {
   "argv": [
    "/ext/julia/julia-1.9/bin/julia",
    "-i",
    "--startup-file=yes",
    "--color=yes",
    "/ext/julia/depot/packages/IJulia/Vo51o/src/kernel.jl",
    "{connection_file}"
   ],
   "display_name": "Julia 1.9",
   "env": {
    "JULIA_DEPOT_PATH": "/home/user/.julia/:/ext/julia/depot/",
    "JULIA_PROJECT": "/home/user/.julia/environment/v1.9"
   },
   "language": "julia",
   "metadata": {
    "cocalc": {
     "description": "The Julia Programming Language",
     "priority": 5,
     "url": "https://julialang.org/"
    }
   },
   "name": "julia-1.9",
   "resource_dir": "/ext/jupyter/kernels/julia-1.9"
  },
  "language_info": {
   "file_extension": ".jl",
   "mimetype": "application/julia",
   "name": "julia",
   "version": "1.9.1"
  }
 },
 "nbformat": 4,
 "nbformat_minor": 4
}