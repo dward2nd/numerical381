{
 "cells": [
  {
   "cell_type": "markdown",
   "metadata": {
    "collapsed": false
   },
   "source": [
    "# Numerical Instability"
   ]
  },
  {
   "cell_type": "markdown",
   "metadata": {
    "collapsed": false
   },
   "source": [
    "There are 3 major problems regarding numerical errors."
   ]
  },
  {
   "cell_type": "markdown",
   "metadata": {
    "collapsed": false
   },
   "source": [
    "## Round-off Error or Rounding Error"
   ]
  },
  {
   "cell_type": "markdown",
   "metadata": {
    "collapsed": false
   },
   "source": [
    "Rounding error usually occurs when calculating **floating-point numbers**. According to IEEE-754, a number of bits in ********mantissa******** determines the maximum possible precisions. Most of the time, floating-point numbers just cannot be represented as a sum of the negative power of 2.\n",
    "\n",
    "For example, $0.1$ is simply $10^{-1}$ in decimal representation, but in the binary representation, it is $0.100110011001100110011001..._2$ (the repeating sequence of $1001$ after the binary point).\n",
    "\n",
    "In 32-bit precision, the actual stored decimal value of $0.1$ is $0.100000001490116119384765625$, which is somewhat imprecise for detailed calculations.\n",
    "\n",
    "To let you see a better picture, let's consider the value of $1.1^{6}$.\n",
    "\n",
    "Calculating by hand, it is\n",
    "\n",
    "$$\n",
    "\\begin{align*}\n",
    "1.1^6 &= (10^0 + 10^{-1})^6 \\\\\n",
    "&= (1 + 10^{-1})^6 \\\\\n",
    "&= (10^{-1})^6 + 6(10^{-1})^5 + 15(10^{-1})^4 + 20(10^{-1})^3 + 15(10^{-1})^2 + 6(10^{-1}) + (10^{-1})^0 \\\\\n",
    "&= 0.000001 + 0.00006 + 0.0015 + 0.020 + 0.15 + 0.6 + 1 \\\\\n",
    "&= 1.771561\n",
    "\\end{align*}\n",
    "$$\n",
    "\n",
    "According to Julia, it is."
   ]
  },
  {
   "cell_type": "code",
   "execution_count": 3,
   "metadata": {
    "collapsed": false
   },
   "outputs": [
   ],
   "source": [
    "using Printf"
   ]
  },
  {
   "cell_type": "code",
   "execution_count": 4,
   "metadata": {
    "collapsed": false
   },
   "outputs": [
    {
     "name": "stdout",
     "output_type": "stream",
     "text": [
      "The number of x is 1.10000002384185791015625\n",
      "The number of x^6 is 1.77156126499176025390625\n",
      "The number of y is 1.77156102657318115234375\n"
     ]
    }
   ],
   "source": [
    "x::Float32 = 1.1\n",
    "y::Float32 = 1.771561\n",
    "@printf(\"The number of x is %.23f\\n\", x)\n",
    "@printf(\"The number of x^6 is %.23f\\n\", x^6)\n",
    "@printf(\"The number of y is %.23f\\n\", y)"
   ]
  },
  {
   "cell_type": "markdown",
   "metadata": {
    "collapsed": false
   },
   "source": [
    "## Overflow and Underflow"
   ]
  },
  {
   "cell_type": "markdown",
   "metadata": {
    "collapsed": false
   },
   "source": [
    "### Integers"
   ]
  },
  {
   "cell_type": "markdown",
   "metadata": {
    "collapsed": false
   },
   "source": [
    "In Julia, it is just impossible to assign an overflow value. The following prompt was caused by running this line of Julia code:\n",
    "\n",
    "```julia\n",
    "a::Int32 = 2^31\n",
    "```\n",
    "\n",
    "The output is\n",
    "```text\n",
    "InexactError: trunc(Int32, 2147483648)\n",
    "\n",
    "Stacktrace:\n",
    " [1] throw_inexacterror(f::Symbol, #unused#::Type{Int32}, val::Int64)\n",
    "   @ Core ./boot.jl:634\n",
    " [2] checked_trunc_sint\n",
    "   @ ./boot.jl:656 [inlined]\n",
    " [3] toInt32\n",
    "   @ ./boot.jl:693 [inlined]\n",
    " [4] Int32\n",
    "   @ ./boot.jl:783 [inlined]\n",
    " [5] convert(#unused#::Type{Int32}, x::Int64)\n",
    "   @ Base ./number.jl:7\n",
    " [6] top-level scope\n",
    "   @ In[8]:1\n",
    "```"
   ]
  },
  {
   "cell_type": "markdown",
   "metadata": {
    "collapsed": false
   },
   "source": [
    "In C++, if running the following code:\n",
    "\n",
    "```c++\n",
    "#include <iostream>\n",
    "int main() {\n",
    "    int a = (1 << 31) + 5;\n",
    "    std::cout << a << '\\n';\n",
    "    return 0;\n",
    "}\n",
    "```\n",
    "\n",
    "the output will be `-2147483643`. Note that `1 << n` is equivalent to $2^n$."
   ]
  },
  {
   "cell_type": "markdown",
   "metadata": {
    "collapsed": false
   },
   "source": [
    "### Floating-points"
   ]
  },
  {
   "cell_type": "markdown",
   "metadata": {
    "collapsed": false
   },
   "source": [
    "If the value is too high, it becomes $+\\infty$. This also happens in C++."
   ]
  },
  {
   "cell_type": "code",
   "execution_count": 9,
   "metadata": {
    "collapsed": false
   },
   "outputs": [
    {
     "name": "stdout",
     "output_type": "stream",
     "text": [
      "Inf\n"
     ]
    }
   ],
   "source": [
    "tooHigh::Float32 = 1e40\n",
    "println(tooHigh)"
   ]
  },
  {
   "cell_type": "markdown",
   "metadata": {
    "collapsed": false
   },
   "source": [
    "If the value is too low, it becomes $-\\infty$."
   ]
  },
  {
   "cell_type": "code",
   "execution_count": 3,
   "metadata": {
    "collapsed": false
   },
   "outputs": [
    {
     "name": "stdout",
     "output_type": "stream",
     "text": [
      "-Inf\n"
     ]
    }
   ],
   "source": [
    "tooLow::Float32 = -1e40\n",
    "println(tooLow)"
   ]
  },
  {
   "cell_type": "markdown",
   "metadata": {
    "collapsed": false
   },
   "source": [
    "If the precision is too small, it becomes either $+0$ or $-0$, depending on the sign bit."
   ]
  },
  {
   "cell_type": "code",
   "execution_count": 12,
   "metadata": {
    "collapsed": false
   },
   "outputs": [
    {
     "name": "stdout",
     "output_type": "stream",
     "text": [
      "0.0\n"
     ]
    }
   ],
   "source": [
    "tooSmall::Float32 = 1e-50\n",
    "println(tooSmall)"
   ]
  },
  {
   "cell_type": "code",
   "execution_count": 13,
   "metadata": {
    "collapsed": false
   },
   "outputs": [
    {
     "name": "stdout",
     "output_type": "stream",
     "text": [
      "-0.0\n"
     ]
    }
   ],
   "source": [
    "tooSmall::Float32 = -1e-50\n",
    "println(tooSmall)"
   ]
  },
  {
   "cell_type": "markdown",
   "metadata": {
    "collapsed": false
   },
   "source": [
    "## Cancellation Error"
   ]
  },
  {
   "cell_type": "markdown",
   "metadata": {
    "collapsed": false
   },
   "source": [
    "Cancellation Errors happen due to the mitigation of significant digits (from minus operation) between 2 floating-point numbers."
   ]
  },
  {
   "cell_type": "code",
   "execution_count": 6,
   "metadata": {
    "collapsed": false
   },
   "outputs": [
   ],
   "source": [
    "using Printf"
   ]
  },
  {
   "cell_type": "markdown",
   "metadata": {
    "collapsed": false
   },
   "source": [
    "For example, the expected result of $12.4 - 12.1$ is $0.3$."
   ]
  },
  {
   "cell_type": "code",
   "execution_count": 20,
   "metadata": {
    "collapsed": false
   },
   "outputs": [
    {
     "name": "stdout",
     "output_type": "stream",
     "text": [
      "x1 = 12.399999618530273437500000\n",
      "x2 = 12.100000381469726562500000\n",
      "bitstr(x1): 01000001010001100110011001100110\n",
      "bitstr(x2): 01000001010000011001100110011010\n"
     ]
    }
   ],
   "source": [
    "x1::Float32 = 12.4\n",
    "x2::Float32 = 12.1\n",
    "@printf(\"x1 = %.24f\\n\", x1)\n",
    "@printf(\"x2 = %.24f\\n\", x2)\n",
    "println(\"bitstr(x1): $(bitstring(x1))\")\n",
    "println(\"bitstr(x2): $(bitstring(x2))\")"
   ]
  },
  {
   "cell_type": "code",
   "execution_count": 22,
   "metadata": {
    "collapsed": false
   },
   "outputs": [
    {
     "name": "stdout",
     "output_type": "stream",
     "text": [
      "x1 - x2 = 0.299999237060546875000000\n",
      "bitstr(x1 - x2): 00111110100110011001100110000000\n"
     ]
    }
   ],
   "source": [
    "result::Float32 = x1 - x2\n",
    "@printf(\"x1 - x2 = %.24f\\n\", result)\n",
    "println(\"bitstr(x1 - x2): $(bitstring(result))\")"
   ]
  }
 ],
 "metadata": {
  "kernelspec": {
   "argv": [
    "/ext/julia/julia-1.9/bin/julia",
    "-i",
    "--startup-file=yes",
    "--color=yes",
    "/ext/julia/depot/packages/IJulia/Vo51o/src/kernel.jl",
    "{connection_file}"
   ],
   "display_name": "Julia 1.9",
   "env": {
    "JULIA_DEPOT_PATH": "/home/user/.julia/:/ext/julia/depot/",
    "JULIA_PROJECT": "/home/user/.julia/environment/v1.9"
   },
   "language": "julia",
   "metadata": {
    "cocalc": {
     "description": "The Julia Programming Language",
     "priority": 5,
     "url": "https://julialang.org/"
    }
   },
   "name": "julia-1.9",
   "resource_dir": "/ext/jupyter/kernels/julia-1.9"
  },
  "language_info": {
   "file_extension": ".jl",
   "mimetype": "application/julia",
   "name": "julia",
   "version": "1.9.1"
  }
 },
 "nbformat": 4,
 "nbformat_minor": 4
}