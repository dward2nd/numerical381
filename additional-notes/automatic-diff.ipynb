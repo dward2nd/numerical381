{
 "cells": [
  {
   "cell_type": "markdown",
   "metadata": {
    "collapsed": false
   },
   "source": [
    "# Forward Mode"
   ]
  },
  {
   "cell_type": "markdown",
   "metadata": {
    "collapsed": false
   },
   "source": [
    "Modified from the reference: https://vladium.com/tutorials/study_julia_with_me/multiple_dispatch/\n",
    "\n",
    "Overriding was inspired by https://github.com/JuliaLang/julia/blob/147bdf428cd14c979202678127d1618e425912d6/base/complex.jl"
   ]
  },
  {
   "cell_type": "code",
   "execution_count": 5,
   "metadata": {
    "collapsed": false
   },
   "outputs": [
   ],
   "source": [
    "struct Context{T<:Number} <: Number\n",
    "    v::T\n",
    "    ∂::T\n",
    "end\n",
    "\n",
    "Context(x::T) where {T<:Number} = Context(x, 0.0)\n",
    "Context(x::T, y::S) where {T<:Number, S<:Number} = Context(promote(x, y)...)\n",
    "\n",
    "Context{T}(x::Real) where {T<:Real} = Context{T}(x, 0)\n",
    "Context{T}(z::Context) where {T<:Real} = Context{T}(v(z), ∂(z))\n",
    "\n",
    "Context(z::Context) = z\n",
    "\n",
    "Base.promote_rule(::Type{Context{T}}, ::Type{S}) where {T<:Number, S<:Number} =\n",
    "    Context{promote_type(T, S)}\n",
    "Base.promote_rule(::Type{Context{T}}, ::Type{Context{S}}) where {T<:Real, S<:Real} =\n",
    "    Context{promote_type(T, S)}"
   ]
  },
  {
   "cell_type": "markdown",
   "metadata": {
    "collapsed": false
   },
   "source": [
    "Define operators along with their derivatives"
   ]
  },
  {
   "cell_type": "code",
   "execution_count": 7,
   "metadata": {
    "collapsed": false
   },
   "outputs": [
   ],
   "source": [
    "# binary operators\n",
    "Base.:(+)(lhs::Context, rhs::Context) = Context(lhs.v + rhs.v, lhs.∂ + rhs.∂)\n",
    "Base.:(-)(lhs::Context, rhs::Context) = Context(lhs.v - rhs.v, lhs.∂ - rhs.∂)\n",
    "\n",
    "Base.:(*)(lhs::Context, rhs::Context) = Context(\n",
    "    lhs.v * rhs.v, lhs.v * rhs.∂ + lhs.∂ * rhs.v\n",
    ")\n",
    "Base.:(/)(lhs::Context, rhs::Context) = Context(\n",
    "    lhs.v / rhs.v, (lhs.∂ * rhs.v - lhs.v * rhs.∂) / rhs.v^2\n",
    ")\n",
    "\n",
    "# unary operators\n",
    "Base.:(+)(x::Context) = x\n",
    "Base.:(-)(x::Context) = Context(-x.v, -x.∂)\n",
    "\n",
    "# Basic trigonometric functions\n",
    "Base.:sin(x::Context) = Context(sin(x.v), cos(x.v) * x.∂)\n",
    "Base.:cos(x::Context) = Context(cos(x.v), -sin(x.v) * x.∂)\n",
    "Base.:tan(x::Context) = Context(tan(x.v), sec(x.v)^2 * x.∂)\n",
    "\n",
    "# Exponential functions\n",
    "Base.:exp(x::Context) = Context(exp(x.v), exp(x.v) * x.∂)\n",
    "Base.:(^)(base::Context, expo::Context) = Context(\n",
    "    base.v^expo.v,\n",
    "    base.v^(expo.v - 1) * expo.v * base.∂ + base.v^expo.v * log(base.v) * expo.∂\n",
    ")\n",
    "\n",
    "# Logarithm\n",
    "Base.log(x::Context) = Context(log(x.v), 1 / x.v * x.∂)\n",
    "Base.log2(x::Context) = Context(log2(x.v), 1 / ln(2) / x.v * x.∂)\n",
    "Base.log10(x::Context) = Context(log10(x.v), 1 / ln(10) / x.v * x.∂)\n",
    "Base.log(b::Context, x::Context) = Context(\n",
    "    log(b.v, x.v), -log(x.v) / b.v / log(b.v)^2 * b.∂ + 1 / x.v / log(b.v) * x.∂\n",
    ")\n",
    "\n",
    "# And more, if necessary."
   ]
  },
  {
   "cell_type": "markdown",
   "metadata": {
    "collapsed": false
   },
   "source": [
    "Also test with the **Four-point method** to see if there's gonna be any error."
   ]
  },
  {
   "cell_type": "code",
   "execution_count": 8,
   "metadata": {
    "collapsed": false
   },
   "outputs": [
    {
     "data": {
      "text/plain": [
       "fp_diff (generic function with 2 methods)"
      ]
     },
     "execution_count": 8,
     "metadata": {
     },
     "output_type": "execute_result"
    }
   ],
   "source": [
    "function fp_diff(f::Function, x::Number, h::Number = 8.8e-4)::Number\n",
    "    return (f(x - 2h) - 8f(x - h) + 8f(x + h) - f(x + 2h)) / 12h\n",
    "end"
   ]
  },
  {
   "cell_type": "markdown",
   "metadata": {
    "collapsed": false
   },
   "source": [
    "Test with\n",
    "\n",
    "$$\n",
    "\\begin{align*}\n",
    "f(x, y) &= \\sin(xy) \\\\\n",
    "f^\\prime(x, y) &= y\\cos(xy) dx + x\\cos(xy) dy \\\\\n",
    "f^\\prime(x, c) &= y\\cos(xy) dx + \\cancel{x\\cos(xy) dy} \\\\\n",
    "&= y\\cos(xy) dx\n",
    "\\end{align*}\n",
    "$$"
   ]
  },
  {
   "cell_type": "code",
   "execution_count": 13,
   "metadata": {
    "collapsed": false
   },
   "outputs": [
    {
     "name": "stdout",
     "output_type": "stream",
     "text": [
      "f(2, 3) = -0.27941549819892586\n",
      "f'(2, 3)  = 2.880510859951098\n",
      "symbolic  = 2.880510859951098\n",
      "numerical = 2.880510859945746\n"
     ]
    }
   ],
   "source": [
    "function f1(x::Number, y::Number)::Number\n",
    "    return sin(x * y)\n",
    "end\n",
    "\n",
    "x = Context(2, 1)\n",
    "y = 3  # given the diff is 0 (y is constant)\n",
    "\n",
    "computed = f1(x, y)\n",
    "numerical = fp_diff(u -> f1(u, y), x.v)\n",
    "symbolic = (y * cos(x * y)).v\n",
    "\n",
    "println(\"f($(x.v), $y) = $(computed.v)\")\n",
    "println(\"f'($(x.v), $y)  = $(computed.∂)\")\n",
    "println(\"symbolic  = $symbolic\")\n",
    "println(\"numerical = $numerical\")"
   ]
  },
  {
   "cell_type": "markdown",
   "metadata": {
    "collapsed": false
   },
   "source": [
    "Test with\n",
    "\n",
    "$$\n",
    "\\begin{align*}\n",
    "f(x, y) &= xy + \\sin(x) \\\\\n",
    "f^\\prime(x, y) &= (y + \\cos(x))dx + x\\ dy\n",
    "\\end{align*}\n",
    "$$"
   ]
  },
  {
   "cell_type": "code",
   "execution_count": 15,
   "metadata": {
    "collapsed": false
   },
   "outputs": [
    {
     "name": "stdout",
     "output_type": "stream",
     "text": [
      "f(3, 1) = 3.1411200080598674\n",
      "f'(3, 1) = 3.010007503399555\n",
      "actual   = 3.010007503399555\n"
     ]
    }
   ],
   "source": [
    "function f2(x::Number, y::Number)::Number\n",
    "    return x * y + sin(x)\n",
    "end\n",
    "\n",
    "x = Context(3, 1)\n",
    "y = Context(1, 1)\n",
    "\n",
    "computed = f2(x, y)\n",
    "symbolic = (y + cos(x) + x).v\n",
    "\n",
    "println(\"f($(x.v), $(y.v)) = $(computed.v)\")\n",
    "println(\"f'($(x.v), $(y.v)) = $(computed.∂)\")\n",
    "println(\"symbolic   = $symbolic\")\n",
    "println(\"numerical  = \")"
   ]
  },
  {
   "cell_type": "markdown",
   "metadata": {
    "collapsed": false
   },
   "source": [
    "Test with\n",
    "\n",
    "$$\n",
    "f(x) = \\frac{\\log(1 + e^{5x^3})}{\\sin(3x)+\\cos(x/6)}\n",
    "$$\n",
    "\n",
    "We know that the derivative of $f(x)$ is (thanks to WolframAlpha)\n",
    "\n",
    "$$\n",
    "f^\\prime(x) = \\frac{15 e^{5 x^3} x^2}{(e^{5 x^3} + 1) (\\sin(3 x) + \\cos(x/6))} - \\frac{\\log(e^{5 x^3} + 1) (3 \\cos(3 x) - \\frac{1}{6} \\sin(x/6))}{(\\sin(3 x) + \\cos(x/6))^2}\n",
    "$$"
   ]
  },
  {
   "cell_type": "code",
   "execution_count": 17,
   "metadata": {
    "collapsed": false
   },
   "outputs": [
    {
     "data": {
      "text/plain": [
       "df3 (generic function with 1 method)"
      ]
     },
     "execution_count": 17,
     "metadata": {
     },
     "output_type": "execute_result"
    }
   ],
   "source": [
    "f3(x) = log(1 + exp(5x^3)) / (sin(3x) + cos(x/6))\n",
    "df3(x) = (15 * exp(5x^3) * x^2) / ((exp(5x^3) + 1) * (sin(3x) + cos(x/6))) - (log(exp(5x^3) + 1) * (3cos(3x) - sin(x/6) / 6)) / (sin(3x) + cos(x/6))^2"
   ]
  },
  {
   "cell_type": "code",
   "execution_count": 21,
   "metadata": {
    "collapsed": false
   },
   "outputs": [
    {
     "name": "stdout",
     "output_type": "stream",
     "text": [
      "f(1) = 4.4414784164916785\n",
      "f'(1)  = 25.028317413642956\n",
      "actual = 25.02831741364296\n"
     ]
    }
   ],
   "source": [
    "x = Context(1, 1)\n",
    "\n",
    "computed = f3(x)\n",
    "actual = df3(x.v)\n",
    "\n",
    "println(\"f($(x.v)) = $(computed.v)\")\n",
    "println(\"f'($(x.v))  = $(computed.∂)\")\n",
    "println(\"actual = $actual\")"
   ]
  },
  {
   "cell_type": "markdown",
   "metadata": {
    "collapsed": false
   },
   "source": [
    "# Reverse Mode\n",
    "\n",
    "*To be continued...*"
   ]
  }
 ],
 "metadata": {
  "kernelspec": {
   "argv": [
    "/ext/julia/julia-1.9/bin/julia",
    "-i",
    "--startup-file=yes",
    "--color=yes",
    "/ext/julia/depot/packages/IJulia/Vo51o/src/kernel.jl",
    "{connection_file}"
   ],
   "display_name": "Julia 1.9",
   "env": {
    "JULIA_DEPOT_PATH": "/home/user/.julia/:/ext/julia/depot/",
    "JULIA_PROJECT": "/home/user/.julia/environment/v1.9"
   },
   "language": "julia",
   "metadata": {
    "cocalc": {
     "description": "The Julia Programming Language",
     "priority": 5,
     "url": "https://julialang.org/"
    }
   },
   "name": "julia-1.9",
   "resource_dir": "/ext/jupyter/kernels/julia-1.9"
  },
  "language_info": {
   "file_extension": ".jl",
   "mimetype": "application/julia",
   "name": "julia",
   "version": "1.9.1"
  }
 },
 "nbformat": 4,
 "nbformat_minor": 4
}