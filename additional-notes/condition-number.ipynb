{
 "cells": [
  {
   "cell_type": "markdown",
   "metadata": {
    "collapsed": false
   },
   "source": [
    "Suppose we have a function $f: X \\rightarrow Y$. $f$ is consider a *well-conditioned function* if changes in $X$ do not significantly affect $Y$. And *ill-conditioned function* otherwise."
   ]
  },
  {
   "cell_type": "markdown",
   "metadata": {
    "collapsed": false
   },
   "source": [
    "## Definition"
   ]
  },
  {
   "cell_type": "markdown",
   "metadata": {
    "collapsed": false
   },
   "source": [
    "An **absolute condition number** is denoted as $c$, such that:\n",
    "\n",
    "$$\n",
    "c = \\lim_{\\Delta x \\to 0} \\frac{|f(x+\\Delta x) - f(x)|}{|\\Delta x|} = |f\\prime(x)|\n",
    "$$\n",
    "\n",
    "A **relative condition number** is denoted as $\\kappa$, such that:\n",
    "\n",
    "$$\n",
    "\\kappa = \\lim_{\\Delta x \\to 0} \\frac{|f(x + \\Delta x) - f(x)|/|f(x)|}{|\\Delta x|/|x|} = \\frac{|x|\\times|f\\prime(x)|}{f(x)}\n",
    "$$\n",
    "\n",
    "The exact size of condition numbers do not generally determine whether a function is ill- or well-conditioned. However, if both types of condition numbers go beyond $1$, the function is probably ill-conditioned."
   ]
  },
  {
   "cell_type": "markdown",
   "metadata": {
    "collapsed": false
   },
   "source": [
    "If we consider a multivariate function, the definition is a little different. We will first normalize each matrix/vector before implementing to $c$ and $\\kappa$.\n",
    "\n",
    "For a differentiable function to the second order $f: \\mathbb{R}^n \\rightarrow \\mathbb{R}^m$ that,\n",
    "\n",
    "$$\n",
    "f([x_1, x_2, ..., x_n]) =\n",
    "\\begin{bmatrix}\n",
    "f_1([x_1, x_2, ..., x_n]) \\\\\n",
    "f_2([x_1, x_2, ..., x_n]) \\\\ \n",
    "... \\\\\n",
    "f_m([x_1, x_2, ..., x_n])\n",
    "\\end{bmatrix}\n",
    "$$\n",
    "\n",
    "we define a **Jacobian matrix** as a matrix of partial derivatives such that:\n",
    "\n",
    "$$\n",
    "J_f (x_1, x_2, ..., x_n) =\n",
    "\\begin{bmatrix}\n",
    "\\frac{\\partial f_1}{\\partial x_1} & \\frac{\\partial f_1}{\\partial x_2} & ... & \\frac{\\partial f_1}{\\partial x_n} \\\\\n",
    "\\frac{\\partial f_2}{\\partial x_1} & \\frac{\\partial f_2}{\\partial x_2} & ... & \\frac{\\partial f_2}{\\partial x_n} \\\\\n",
    "... & ... & ... & ... \\\\\n",
    "\\frac{\\partial f_m}{\\partial x_1} & \\frac{\\partial f_m}{\\partial x_2} & ... & \\frac{\\partial f_m}{\\partial x_n}\n",
    "\\end{bmatrix}\n",
    "$$\n",
    "\n",
    "We define a **norm** of a **vector** (or [***p*-norm at p=∞**](https://en.wikipedia.org/wiki/Norm_(mathematics)#p-norm), to be precise) as\n",
    "\n",
    "$$||\\vec{x}||_\\infty = \\max_{1\\leq i \\leq n} |x_i|$$\n",
    "\n",
    "We define a **norm** of a **matrix** (or [***p*-norm induced matrix at p=∞**](https://en.wikipedia.org/wiki/Matrix_norm#Matrix_norms_induced_by_vector_p-norms) to be precise) as\n",
    "\n",
    "$$||M||_\\infty = \\max_{1\\leq i \\leq m} \\sum^n_{j=1} |x_{ij}|$$\n",
    "\n",
    "An **absolute condition number** for a multivariate function $f$ is\n",
    "\n",
    "$$c = ||J||_\\infty$$\n",
    "\n",
    "if $||J||_\\infty ≫ 1$ , it is considered *ill-conditioned*.\n",
    "\n",
    "A **relative condition number** for a multivariate function $f$ is\n",
    "\n",
    "$$\n",
    "\\begin{align*}\n",
    "\\kappa &= \\lim_{\\Delta x \\to 0} \\frac{||f(x + \\Delta x) - f(x)||_\\infty / ||f(x)||_\\infty}{||\\Delta x||_\\infty/||x||_\\infty} \\\\\n",
    "&= \\frac{||J||_\\infty}{||f(\\vec{x})||_\\infty/||\\vec{x}||_\\infty}\n",
    "\\end{align*}\n",
    "$$"
   ]
  },
  {
   "cell_type": "markdown",
   "metadata": {
    "collapsed": false
   },
   "source": [
    "## Example"
   ]
  },
  {
   "cell_type": "markdown",
   "metadata": {
    "collapsed": false
   },
   "source": [
    "#### Consider if $f(x) = x/2$ well-conditioned function?"
   ]
  },
  {
   "cell_type": "markdown",
   "metadata": {
    "collapsed": false
   },
   "source": [
    "Consider\n",
    "\n",
    "$$\n",
    "\\begin{align*}\n",
    "f\\prime(x) &= \\frac{1}{2} \\cdot \\frac{d}{dx} (x) \\\\\n",
    "&= \\frac{1}{2} (1) = \\frac{1}{2}\n",
    "\\end{align*}\n",
    "$$\n",
    "\n",
    "Consider the absolute and the relative condition number\n",
    "\n",
    "$$\n",
    "\\begin{align*}\n",
    "c_f &= |f\\prime(x)| \\\\\n",
    "&= |\\frac{1}{2}| = 0.5\n",
    "\\end{align*}\n",
    "$$\n",
    "\n",
    "and\n",
    "\n",
    "$$\n",
    "\\begin{align*}\n",
    "\\kappa_f &= \\frac{|x|\\times|f\\prime(x)|}{f(x)} \\\\\n",
    "&= \\frac{\\cancel{|x|} \\times \\cancel{|1/2|}}{\\cancel{|x/2|}} \\\\\n",
    "&= 1\n",
    "\\end{align*}\n",
    "$$\n",
    "\n",
    "Since $\\kappa_f$ is small, then $f(x) = x/2$ is a well-conditioned function."
   ]
  },
  {
   "cell_type": "markdown",
   "metadata": {
    "collapsed": false
   },
   "source": [
    "#### Consider if $f(x) = x^2$ is a well-conditioned function?"
   ]
  },
  {
   "cell_type": "markdown",
   "metadata": {
    "collapsed": false
   },
   "source": [
    "Consider\n",
    "\n",
    "$$\n",
    "\\begin{align*}\n",
    "f\\prime(x) &= \\frac{d}{dx} (x^2) \\\\\n",
    "&= 2x\n",
    "\\end{align*}\n",
    "$$\n",
    "\n",
    "Consider the absolute and the relative condition number\n",
    "\n",
    "$$\n",
    "\\begin{align*}\n",
    "c_f &= |f\\prime(x)| \\\\\n",
    "&= |2x|\n",
    "\\end{align*}\n",
    "$$\n",
    "\n",
    "and\n",
    "\n",
    "$$\n",
    "\\begin{align*}\n",
    "\\kappa_f &= \\frac{|x|\\times|f\\prime(x)|}{f(x)} \\\\\n",
    "&= \\frac{\\cancel{|x|} \\times |2\\cancel{x}|}{\\cancel{|x^2|}} \\\\\n",
    "&= 2\n",
    "\\end{align*}\n",
    "$$\n",
    "\n",
    "Though the absolute condition number $c_f$ is relatively large when $x$ is large, the relative condition $\\kappa_f$ number indicates that $f$ is acceptably *well-conditioned* (though I mentioned that condition numbers greater than 1 is probably ill-condition, it is that not always)"
   ]
  },
  {
   "cell_type": "markdown",
   "metadata": {
    "collapsed": false
   },
   "source": [
    "#### Consider if $f(x) = \\mathrm{sin}(10^8 x)$ is a well-conditioned function?"
   ]
  },
  {
   "cell_type": "markdown",
   "metadata": {
    "collapsed": false
   },
   "source": [
    "Consider\n",
    "\n",
    "$$\n",
    "\\begin{align*}\n",
    "f\\prime(x) &= \\frac{d}{dx} \\mathrm{sin}(10^8 x) \\\\\n",
    "&= 10^8 \\mathrm{cos}(10^8 x)\n",
    "\\end{align*}\n",
    "$$\n",
    "\n",
    "Consider the absolute and the relative condition number\n",
    "\n",
    "$$\n",
    "\\begin{align*}\n",
    "c_f &= |f\\prime(x)| \\\\\n",
    "&= |10^8 \\mathrm{cos}(10^8 x)|\n",
    "\\end{align*}\n",
    "$$\n",
    "\n",
    "and\n",
    "\n",
    "$$\n",
    "\\begin{align*}\n",
    "\\kappa_f &= \\frac{|x|\\times|f\\prime(x)|}{f(x)} \\\\\n",
    "&= \\frac{|x| \\times |10^8 \\mathrm{cos}(10^8 x)|}{\\mathrm{sin}(10^8 x)} \\\\\n",
    "&= 10^8 |x\\cdot\\mathrm{cot}(10^8 x)|\n",
    "\\end{align*}\n",
    "$$\n",
    "\n",
    "Both condition numbers obviously indicate that the function is definitely *ill-conditioned* even a trivial change of $x$."
   ]
  },
  {
   "cell_type": "markdown",
   "metadata": {
    "collapsed": false
   },
   "source": [
    "#### Consider if $f(\\vec{x}) = x_1 - x_2$ a well-conditioned function?"
   ]
  },
  {
   "cell_type": "markdown",
   "metadata": {
    "collapsed": false
   },
   "source": [
    "To be precise, $f(\\vec{x})$ is a function defined on $\\mathbb{R}^2 \\rightarrow \\mathbb{R}$ that\n",
    "\n",
    "$$\n",
    "f([x_1, x_2]) = \\begin{bmatrix} x_1 - x_2 \\end{bmatrix}_{1\\times 1}\n",
    "$$\n",
    "\n",
    "Consider\n",
    "\n",
    "$$\n",
    "\\begin{align*}\n",
    "J_f &=\n",
    "\\begin{bmatrix}\n",
    "\\frac{\\partial f}{\\partial x_1} & \\frac{\\partial f}{\\partial x_2}\n",
    "\\end{bmatrix} \\\\\n",
    "&=\n",
    "\\begin{bmatrix}\n",
    "1 & -1\n",
    "\\end{bmatrix}\n",
    "\\end{align*}\n",
    "$$\n",
    "\n",
    "Then $||J_f||_\\infty = \\max\\{|1|, |-1|\\} = 1 = c_f$ is the **absolute** condition number of $f$.\n",
    "\n",
    "Consider the **relative** condition number of $f$\n",
    "\n",
    "$$\n",
    "\\kappa_f = \\frac{||J_f||_\\infty}{||f(\\vec{x})||_\\infty/||\\vec{x}||_\\infty}\n",
    "$$\n",
    "\n",
    "Consider $||f(\\vec{x})||_\\infty$,\n",
    "\n",
    "$$\n",
    "\\begin{align*}\n",
    "||f(\\vec{x})||_\\infty &= \\max_{1\\leq j \\leq 1} \\sum^1_{i=1} |x_{ij}|; x_{ij} \\in f(\\vec{x}) \\\\\n",
    "&= |x_1 - x_2|\n",
    "\\end{align*}\n",
    "$$\n",
    "\n",
    "Consider $||\\vec{x}||_\\infty$\n",
    "\n",
    "$$\n",
    "\\begin{align*}\n",
    "||\\vec{x}||_\\infty &= \\max_{1\\leq i \\leq 2} |x_i|; x_i \\in \\vec{x} \\\\\n",
    "&= \\max\\{|x_1|, |x_2|\\}\n",
    "\\end{align*}\n",
    "$$\n",
    "\n",
    "Then\n",
    "\n",
    "$$\n",
    "\\begin{align*}\n",
    "\\kappa_f &= \\frac{1}{||x_1 - x_2||_\\infty/\\max\\{|x_1|, |x_2|\\}} \\\\\n",
    "&= \\frac{\\max\\{|x_1|, |x_2|\\}}{|x_1 - x_2|}\n",
    "\\end{align*}\n",
    "$$\n",
    "\n",
    "According to $\\kappa_f$, the relative condition number would be fine in most cases, but if $x_1 \\approx x_2$ or $|x_1 - x_2| \\approx 0$, it can be considerably high. So this function is *ill-conditioned* overall. This case corresponds to the **cancellation errors**."
   ]
  }
 ],
 "metadata": {
  "kernelspec": {
   "argv": [
    "/ext/julia/julia-1.9/bin/julia",
    "-i",
    "--startup-file=yes",
    "--color=yes",
    "/ext/julia/depot/packages/IJulia/Vo51o/src/kernel.jl",
    "{connection_file}"
   ],
   "display_name": "Julia 1.9",
   "env": {
    "JULIA_DEPOT_PATH": "/home/user/.julia/:/ext/julia/depot/",
    "JULIA_PROJECT": "/home/user/.julia/environment/v1.9"
   },
   "language": "julia",
   "metadata": {
    "cocalc": {
     "description": "The Julia Programming Language",
     "priority": 5,
     "url": "https://julialang.org/"
    }
   },
   "name": "julia-1.9",
   "resource_dir": "/ext/jupyter/kernels/julia-1.9"
  }
 },
 "nbformat": 4,
 "nbformat_minor": 4
}