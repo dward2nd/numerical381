{
 "cells": [
  {
   "cell_type": "markdown",
   "metadata": {
    "collapsed": false
   },
   "source": [
    "## IEEE 754: Definition\n",
    "\n"
   ]
  },
  {
   "cell_type": "markdown",
   "metadata": {
    "collapsed": false
   },
   "source": [
    "For 32\\-bit (**single** precision):\n",
    "\n",
    "$$\n",
    "\\underbrace{0}_\\text{sign}\n",
    "\\overbrace{00000000}^\\text{8-bit exponent}\n",
    "\\underbrace{00000000000000000000000}_\\text{23-bit mantissa}\n",
    "$$\n",
    "\n",
    "For 64-bit (**double** precision):\n",
    "\n",
    "$$\n",
    "\\underbrace{0}_\\text{sign}\n",
    "\\overbrace{00000000000}^\\text{11-bit exponent}\n",
    "\\underbrace{0000000000000000000000000000000000000000000000000000}_\\text{52-bit mantissa}\n",
    "$$\n",
    "\n",
    "For any real $x$, it can be represented as:\n",
    "\n",
    "$$\n",
    "x = (-1)^s \\cdot (1 + m) \\cdot 2^{e}\n",
    "$$\n",
    "\n",
    "where $s$ be a sign bit, $m = \\sum^{52}_{i=1} m_i 2^{-i}$, and $e = \\sum^{10}_{i = 0} c_i 2^i - \\overline{c}$ which $\\overline{c} = 1023$ in double precision, and $\\overline{c} = 127$ in single precision."
   ]
  },
  {
   "cell_type": "markdown",
   "metadata": {
    "collapsed": false
   },
   "source": [
    "## Special Cases for IEEE 754 Representation"
   ]
  },
  {
   "cell_type": "markdown",
   "metadata": {
    "collapsed": false
   },
   "source": [
    "### Zero\n",
    "\n",
    "It is nearly impossible to represent $0$ with IEEE 754. Let's say $s = m = e = 0$, if substituted, then we get:\n",
    "\n",
    "$$\n",
    "\\underbrace{0}_\\text{sign}\n",
    "\\overbrace{00000000}^\\text{8-bit exponent}\n",
    "\\underbrace{00000000000000000000000}_\\text{23-bit mantissa}\n",
    "$$\n",
    "\n",
    "This is called **positive zero (written as $+0$)**. Meanwhile,\n",
    "\n",
    "$$\n",
    "\\underbrace{1}_\\text{sign}\n",
    "\\overbrace{00000000}^\\text{8-bit exponent}\n",
    "\\underbrace{00000000000000000000000}_\\text{23-bit mantissa}\n",
    "$$\n",
    "\n",
    "is called **negative zero (written as $-0$)**.\n",
    "\n",
    "**Therefore, regardless of the sign bit, if both $m = 0$ and $e = 0$, then the value is $0$.**"
   ]
  },
  {
   "cell_type": "markdown",
   "metadata": {
    "collapsed": false
   },
   "source": [
    "### Denormalized Numbers\n",
    "\n",
    "If $e = 0$ and $m \\neq 0$, the number will be considered **denormalized**.\n",
    "\n",
    "In normalized number, we specify $m$ with an assumption that the value can be represented as:\n",
    "\n",
    "$$\n",
    "x = (-1)^s \\times 1.m \\times 2^e = (-1)^s \\times 1.d_0d_1d_2... \\times 2^e\n",
    "$$\n",
    "\n",
    "Where $d_0, d_1, d_2, ...$ are the decimal-point binary digits of $m$. We assume that the mantissa is in the range $[1, 2)$\n",
    "\n",
    "However, if $e = 0$, we assume that the mantissa is in the range $[0, 1)$ instead, or:\n",
    "\n",
    "$$\n",
    "x = (-1)^s \\times 0.m \\times 2^{1-\\overline{c}} = (-1)^s \\times 0.d_0d_1d_2... \\times 2^{1-\\overline{c}}\n",
    "$$\n",
    "\n",
    "For example, this 32-bit number is denormalized\n",
    "\n",
    "$$\n",
    "\\underbrace{0}_\\text{sign}\n",
    "\\overbrace{00000000}^\\text{8-bit exponent}\n",
    "\\underbrace{10001111100110111100010}_\\text{23-bit mantissa}\n",
    "$$\n",
    "\n",
    "So its values is\n",
    "\n",
    "$$\n",
    "x = (-1)^0 \\times (0 + 2^{-23} + 2^{-19} + 2^{-18} +...) \\times 2^{-126}\n",
    "$$\n",
    "\n",
    "According to this rule, **the minimum non-zero positive value of 32-bit float numbers is**\n",
    "\n",
    "$$\n",
    "\\begin{align*}\n",
    "\\underbrace{0}_\\text{sign}\n",
    "\\overbrace{00000000}^\\text{8-bit exponent}\n",
    "\\underbrace{00000000000000000000001}_\\text{23-bit mantissa}\n",
    "&= (-1)^0 + \\times (0 + 2^{-23}) \\times 2^{-126}\\\\\n",
    "&= 2^{-149}\n",
    "\\end{align*}\n",
    "$$\n",
    "\n",
    "And for **64-bit float number is**\n",
    "\n",
    "$$\n",
    "\\begin{align*}\n",
    "\\underbrace{0}_\\text{sign}\n",
    "\\overbrace{00000000000}^\\text{11-bit exponent}\n",
    "\\underbrace{0000000000000000000000000000000000000000000000000001}_\\text{52-bit mantissa}\n",
    "&= (-1)^0 + \\times (0 + 2^{-52}) \\times 2^{-1022}\\\\\n",
    "&= 2^{-1074}\n",
    "\\end{align*}\n",
    "$$"
   ]
  },
  {
   "cell_type": "markdown",
   "metadata": {
    "collapsed": false
   },
   "source": [
    "### Infinity\n",
    "\n",
    "If $e$ is all $1's$ (i.e., or 1024 for double precision) and $m = 0$, then the value is $\\inf$ (infinity).\n",
    "\n",
    "Therefore, the maximum possible exponent is only $11111111110_2 = 1023$.\n",
    "\n",
    "If the value with a sign number of $0$ is\n",
    "\n",
    "$$\n",
    "\\underbrace{0}_\\text{sign}\n",
    "\\overbrace{11111111111}^\\text{8-bit exponent}\n",
    "\\underbrace{00000000000000000000000}_\\text{23-bit mantissa}\n",
    "$$\n",
    "\n",
    "it is the **positive infinity**, written as $+\\infty$.\n",
    "\n",
    "And if the value with a sign number of $1$ is\n",
    "\n",
    "$$\n",
    "\\underbrace{1}_\\text{sign}\n",
    "\\overbrace{11111111111}^\\text{8-bit exponent}\n",
    "\\underbrace{00000000000000000000000}_\\text{23-bit mantissa}\n",
    "$$\n",
    "\n",
    "it is the **negative infinity**, written as $-\\infty$."
   ]
  },
  {
   "cell_type": "markdown",
   "metadata": {
    "collapsed": false
   },
   "source": [
    "### NaN (Not a Number)\n",
    "\n",
    "It is impossible to represent a mantissa of *infinity*. That is, if $e$ is **max** and $m$ is **non-zero**, then the value is $\\text{NaN}$.\n",
    "\n",
    "For example,\n",
    "\n",
    "$$\n",
    "\\underbrace{0}_\\text{sign}\n",
    "\\overbrace{11111111111}^\\text{8-bit exponent}\n",
    "\\underbrace{10101010101010101010101}_\\text{23-bit mantissa}\n",
    "$$\n",
    "\n",
    "is $\\text{NaN}$"
   ]
  },
  {
   "cell_type": "markdown",
   "metadata": {
    "collapsed": false
   },
   "source": [
    "# Exercise"
   ]
  },
  {
   "cell_type": "markdown",
   "metadata": {
    "collapsed": false
   },
   "source": [
    "Import `printf`."
   ]
  },
  {
   "cell_type": "code",
   "execution_count": 2,
   "metadata": {
    "collapsed": false
   },
   "outputs": [
   ],
   "source": [
    "using Printf"
   ]
  },
  {
   "cell_type": "markdown",
   "metadata": {
    "collapsed": false
   },
   "source": [
    "Define `mantissa()` to extract a mantissa out of a 64-bit string."
   ]
  },
  {
   "cell_type": "code",
   "execution_count": 3,
   "metadata": {
    "collapsed": false
   },
   "outputs": [
   ],
   "source": [
    "@enum IEEE754Precision single double"
   ]
  },
  {
   "cell_type": "code",
   "execution_count": 4,
   "metadata": {
    "collapsed": false
   },
   "outputs": [
    {
     "data": {
      "text/plain": [
       "mantissa (generic function with 4 methods)"
      ]
     },
     "execution_count": 4,
     "metadata": {
     },
     "output_type": "execute_result"
    }
   ],
   "source": [
    "function mantissa(\n",
    "        bitstr::String,\n",
    "        denormalized::Bool = false,\n",
    "        precision::IEEE754Precision = double,\n",
    "        debug::Bool = false,\n",
    "    )::Float64\n",
    "    \n",
    "    bitlen::Int64 = 52\n",
    "    if precision == single\n",
    "        bitlen = 23\n",
    "    end\n",
    "    \n",
    "    bitstr::String = bitstr[end - bitlen + 1 : end]\n",
    "    ret::Float64 = 1.0\n",
    "    if denormalized\n",
    "        ret = 0.0\n",
    "    end\n",
    "    if debug\n",
    "        @printf(\"   i |  monomial  |  mantissa  \\n\")\n",
    "        @printf(\"-----|------------|------------\\n\")\n",
    "    end\n",
    "    for i in 1:bitlen\n",
    "        b::Int = parse(Int, bitstr[i])\n",
    "        tmp::Float64 = b * 2.0^(-i)\n",
    "        ret += tmp\n",
    "        if debug\n",
    "            @printf(\" %3d | %.8f | %.8f \\n\", i, tmp, ret)\n",
    "        end\n",
    "    end\n",
    "    \n",
    "    return ret\n",
    "end"
   ]
  },
  {
   "cell_type": "markdown",
   "metadata": {
    "collapsed": false
   },
   "source": [
    "Define `exponent()` to extract an exponent out of a 64-bit string."
   ]
  },
  {
   "cell_type": "code",
   "execution_count": 5,
   "metadata": {
    "collapsed": false
   },
   "outputs": [
    {
     "data": {
      "text/plain": [
       "exponent (generic function with 3 methods)"
      ]
     },
     "execution_count": 5,
     "metadata": {
     },
     "output_type": "execute_result"
    }
   ],
   "source": [
    "function exponent(\n",
    "        bitstr::String,\n",
    "        precision::IEEE754Precision = double,\n",
    "        debug::Bool = false,\n",
    "    )::Tuple{Int64, Bool}\n",
    "    \n",
    "    bitlen::Int64 = 11\n",
    "    if precision == single\n",
    "        bitlen = 8\n",
    "    end\n",
    "    \n",
    "    bitstr::String = bitstr[2 : bitlen + 1]\n",
    "    ret::Int64 = 0\n",
    "    if debug\n",
    "        @printf(\"   i | monomial | exponent \\n\")\n",
    "        @printf(\"-----|----------|----------\\n\")\n",
    "    end\n",
    "    for i in 0:bitlen-1\n",
    "        b::Int = parse(Int, bitstr[i + 1])\n",
    "        tmp::Int64 = b * (1 << (bitlen - 1 - i))\n",
    "        ret += tmp\n",
    "        if debug\n",
    "            @printf(\" %3d | %8d | %8d \\n\", i, tmp, ret)\n",
    "        end\n",
    "    end\n",
    "    \n",
    "    biased_term::Int64 = precision == double ? 1023 : 127\n",
    "    ret -= biased_term\n",
    "    if debug\n",
    "        @printf(\"==> subtract with %d: %d\\n\", biased_term, ret)\n",
    "    end\n",
    "    \n",
    "    denormalized::Bool = false\n",
    "    if ret == -biased_term\n",
    "        ret += 1\n",
    "        denormalized = true\n",
    "        if debug\n",
    "            @printf(\"====> denormalized to %d\\n\", ret)\n",
    "        end\n",
    "    end\n",
    "    \n",
    "    return (ret, denormalized)\n",
    "end"
   ]
  },
  {
   "cell_type": "code",
   "execution_count": 6,
   "metadata": {
    "collapsed": false
   },
   "outputs": [
    {
     "data": {
      "text/plain": [
       "calcIEEE754Double (generic function with 2 methods)"
      ]
     },
     "execution_count": 6,
     "metadata": {
     },
     "output_type": "execute_result"
    }
   ],
   "source": [
    "function calcIEEE754Double(bitstr::String, debug::Bool = false)::Float64\n",
    "    precision::IEEE754Precision = length(bitstr) == 64 ? double : single\n",
    "    \n",
    "    expo, denormalized = exponent(bitstr, precision, debug)\n",
    "    mant = mantissa(bitstr, denormalized, precision, debug)\n",
    "    sign::Int64 = bitstr[1] == '0' ? 1 : -1\n",
    "    \n",
    "    maxexpo::Bool = (expo == 1024 && precision == double) || (expo == 128 && precision == single)\n",
    "    \n",
    "    if maxexpo && mant == 1.0\n",
    "        if bitstr[1] == '0'\n",
    "            return Inf\n",
    "        else\n",
    "            return -Inf\n",
    "        end\n",
    "    end\n",
    "    \n",
    "    if maxexpo && mant != 1.0\n",
    "        return NaN\n",
    "    end\n",
    "    \n",
    "    return sign * mant * 2.0^expo\n",
    "end"
   ]
  },
  {
   "cell_type": "markdown",
   "metadata": {
    "collapsed": false
   },
   "source": [
    "Verify the result."
   ]
  },
  {
   "cell_type": "code",
   "execution_count": 7,
   "metadata": {
    "collapsed": false,
    "scrolled": true
   },
   "outputs": [
    {
     "name": "stdout",
     "output_type": "stream",
     "text": [
      "value: 3.0\n",
      "bit string: 0100000000001000000000000000000000000000000000000000000000000000\n"
     ]
    },
    {
     "name": "stdout",
     "output_type": "stream",
     "text": [
      "mantissa: 1.500000000000000000000000000000000000000000000\n",
      "exponent: 1\n"
     ]
    },
    {
     "name": "stdout",
     "output_type": "stream",
     "text": [
      "x = 1.50 * 2^1 = 3.000000000000000000000000000000000000000000000\n"
     ]
    }
   ],
   "source": [
    "input = bitstring(3.0)\n",
    "println(\"value: $(3.0)\")\n",
    "println(\"bit string: $input\")\n",
    "\n",
    "m = mantissa(input)\n",
    "e, denom = exponent(input)\n",
    "\n",
    "@printf(\"mantissa: %.45f\\n\", m)\n",
    "@printf(\"exponent: %d\\n\", e)\n",
    "\n",
    "@printf(\"x = %.2f * 2^%d = %.45f\\n\", m, e, calcIEEE754Double(input))"
   ]
  },
  {
   "cell_type": "code",
   "execution_count": 8,
   "metadata": {
    "collapsed": false
   },
   "outputs": [
    {
     "name": "stdout",
     "output_type": "stream",
     "text": [
      "value: 1.1\n",
      "bit string: 0011111111110001100110011001100110011001100110011001100110011010\n",
      "mantissa: 1.100000000000000088817841970012523233890533447\n",
      "exponent: 0\n",
      "x = 1.10 * 2^0 = 1.100000000000000088817841970012523233890533447\n"
     ]
    }
   ],
   "source": [
    "input = bitstring(1.1)\n",
    "println(\"value: $(1.1)\")\n",
    "println(\"bit string: $input\")\n",
    "\n",
    "m = mantissa(input)\n",
    "e, denom = exponent(input)\n",
    "\n",
    "@printf(\"mantissa: %.45f\\n\", m)\n",
    "@printf(\"exponent: %d\\n\", e)\n",
    "\n",
    "@printf(\"x = %.2f * 2^%d = %.45f\\n\", m, e, calcIEEE754Double(input))"
   ]
  },
  {
   "cell_type": "code",
   "execution_count": 9,
   "metadata": {
    "collapsed": false
   },
   "outputs": [
    {
     "name": "stdout",
     "output_type": "stream",
     "text": [
      "value: 0.1\n",
      "bit string: 0011111110111001100110011001100110011001100110011001100110011010\n",
      "mantissa: 1.600000000000000088817841970012523233890533447\n",
      "exponent: -4\n",
      "x = 1.60 * 2^-4 = 0.100000000000000005551115123125782702118158340\n"
     ]
    }
   ],
   "source": [
    "input = bitstring(0.1)\n",
    "println(\"value: $(0.1)\")\n",
    "println(\"bit string: $input\")\n",
    "\n",
    "m = mantissa(input)\n",
    "e, denom = exponent(input)\n",
    "\n",
    "@printf(\"mantissa: %.45f\\n\", m)\n",
    "@printf(\"exponent: %d\\n\", e)\n",
    "\n",
    "@printf(\"x = %.2f * 2^%d = %.45f\\n\", m, e, calcIEEE754Double(input))"
   ]
  },
  {
   "cell_type": "code",
   "execution_count": 10,
   "metadata": {
    "collapsed": false
   },
   "outputs": [
    {
     "name": "stdout",
     "output_type": "stream",
     "text": [
      "value: NaN\n",
      "bit string: 01111111110101010101010101010101\n"
     ]
    },
    {
     "name": "stdout",
     "output_type": "stream",
     "text": [
      "mantissa: 1.666666626930236816406250000000000000000000000\n",
      "exponent: 128\n",
      "x = 1.67 * 2^128 = NaN\n"
     ]
    }
   ],
   "source": [
    "input = \"01111111110101010101010101010101\"\n",
    "println(\"value: $(NaN)\")\n",
    "println(\"bit string: $input\")\n",
    "\n",
    "m = mantissa(input, false, single)\n",
    "e, denom = exponent(input, single)\n",
    "\n",
    "@printf(\"mantissa: %.45f\\n\", m)\n",
    "@printf(\"exponent: %d\\n\", e)\n",
    "\n",
    "@printf(\"x = %.2f * 2^%d = %.45f\\n\", m, e, calcIEEE754Double(input))"
   ]
  },
  {
   "cell_type": "code",
   "execution_count": 11,
   "metadata": {
    "collapsed": false
   },
   "outputs": [
    {
     "name": "stdout",
     "output_type": "stream",
     "text": [
      "value: Inf\n",
      "bit string: 0111111111110000000000000000000000000000000000000000000000000000\n",
      "mantissa: 1.000000000000000000000000000000000000000000000\n",
      "exponent: 128\n",
      "x = 1.00 * 2^128 = Inf\n"
     ]
    }
   ],
   "source": [
    "input = \"0111111111110000000000000000000000000000000000000000000000000000\"\n",
    "println(\"value: $(Inf)\")\n",
    "println(\"bit string: $input\")\n",
    "\n",
    "m = mantissa(input, false, single)\n",
    "e, denom = exponent(input, single)\n",
    "\n",
    "@printf(\"mantissa: %.45f\\n\", m)\n",
    "@printf(\"exponent: %d\\n\", e)\n",
    "\n",
    "@printf(\"x = %.2f * 2^%d = %.45f\\n\", m, e, calcIEEE754Double(input))"
   ]
  },
  {
   "cell_type": "code",
   "execution_count": 12,
   "metadata": {
    "collapsed": false
   },
   "outputs": [
    {
     "name": "stdout",
     "output_type": "stream",
     "text": [
      "value: -Inf\n",
      "bit string: 1111111111110000000000000000000000000000000000000000000000000000\n",
      "mantissa: 1.000000000000000000000000000000000000000000000\n",
      "exponent: 128\n",
      "x = 1.00 * 2^128 = -Inf\n"
     ]
    }
   ],
   "source": [
    "input = \"1111111111110000000000000000000000000000000000000000000000000000\"\n",
    "println(\"value: $(-Inf)\")\n",
    "println(\"bit string: $input\")\n",
    "\n",
    "m = mantissa(input, false, single)\n",
    "e, denom = exponent(input, single)\n",
    "\n",
    "@printf(\"mantissa: %.45f\\n\", m)\n",
    "@printf(\"exponent: %d\\n\", e)\n",
    "\n",
    "@printf(\"x = %.2f * 2^%d = %.45f\\n\", m, e, calcIEEE754Double(input))"
   ]
  },
  {
   "cell_type": "markdown",
   "metadata": {
    "collapsed": false
   },
   "source": [
    "# Additional Homework"
   ]
  },
  {
   "cell_type": "markdown",
   "metadata": {
    "collapsed": false
   },
   "source": [
    "## Show that the largest possible number in 64-bit IEEE floating point is $2^{1023} (2-2^{-52})$"
   ]
  },
  {
   "cell_type": "markdown",
   "metadata": {
    "collapsed": false
   },
   "source": [
    "Before we're going to do the boring math, let's do the **coding** way to find the bit representation, so that they give us a clue on how to prove it correctly."
   ]
  },
  {
   "cell_type": "code",
   "execution_count": 14,
   "metadata": {
    "collapsed": false
   },
   "outputs": [
    {
     "name": "stdout",
     "output_type": "stream",
     "text": [
      "decimal: 179769313486231570814527423731704356798070567525844996598917476803157260780028538760589558632766878171540458953514382464234321326889464182768467546703537516986049910576551282076245490090389328944075868508455133942304583236903222948165808559332123348274797826204144723168738177180919299881250404026184124858368.000000\n",
      "bits: 0111111111101111111111111111111111111111111111111111111111111111\n",
      "mantissa: 1.9999999999999998\n",
      "exponent: 1023\n"
     ]
    },
    {
     "name": "stdout",
     "output_type": "stream",
     "text": [
      "x = 2.00 * 2^1023.00 = 179769313486231570814527423731704356798070567525844996598917476803157260780028538760589558632766878171540458953514382464234321326889464182768467546703537516986049910576551282076245490090389328944075868508455133942304583236903222948165808559332123348274797826204144723168738177180919299881250404026184124858368.00\n"
     ]
    }
   ],
   "source": [
    "x = 2.0^1023 * (2.0 - 2.0^(-52))\n",
    "bitx = bitstring(x)\n",
    "@printf(\"decimal: %f\\n\", x)\n",
    "@printf(\"bits: %s\\n\", bitx)\n",
    "\n",
    "m = mantissa(bitx)\n",
    "e, denom = exponent(bitx)\n",
    "\n",
    "@printf(\"mantissa: %s\\n\", m)\n",
    "@printf(\"exponent: %s\\n\", e)\n",
    "\n",
    "@printf(\"x = %.2f * 2^%.2f = %.2f\\n\", m, e, calcIEEE754Double(bitx))"
   ]
  },
  {
   "cell_type": "markdown",
   "metadata": {
    "collapsed": false
   },
   "source": [
    "Though the last equation does not match our expectation, the bit representation could tell us something."
   ]
  },
  {
   "cell_type": "markdown",
   "metadata": {
    "collapsed": false
   },
   "source": [
    "The largest possible number written in 64-digit binary number as:\n",
    "\n",
    "$$\n",
    "\\underbrace{0}_\\text{sign}\n",
    "\\overbrace{11111111110}^\\text{11-bit exponent}\n",
    "\\underbrace{1111111111111111111111111111111111111111111111111111}_\\text{52-bit mantissa}\n",
    "$$\n",
    "\n",
    "The first digit is the signed bit for the whole number, which is zero to indicate that the number is positive.\n",
    "\n",
    "The next 11 digits are the exponent ($11111111110_2 = 1023$; ten digits of ones, then zero) Notice that the 12th digit (the rightmost digit of the exponent) is zero because that is the maximum exponent possible. *Note: $e$ with all 1's is reserved for infinity value only, and infinity is not considered a real number according to mathematicians*.\n",
    "\n",
    "Let's consider the mantissa and the exponent's values.\n",
    "\n",
    "Consider\n",
    "$$\n",
    "\\begin{align*}\n",
    "e &= 0 \\cdot 2^0 + 1 \\cdot 2^1 + 1 \\cdot 2^2 + ... +  1 \\cdot 2^{10} - 1023 \\\\\n",
    "&= 1023\n",
    "\\end{align*}\n",
    "$$\n",
    "\n",
    "Consider\n",
    "\n",
    "$$\n",
    "\\begin{align*}\n",
    "m &= 2^{-52} + \\cancel{2^{-51} + ... + 2^{-1}} &\\_\\_\\_(1)\\\\\n",
    "2m &= \\cancel{2^{-51} + ...  + 2^{-1}} + 2^{0} & \\_\\_\\_ (2)\\\\\n",
    "(2)-(1);\\ \\ \\ \\ \\ 2m - m &= 2^{0} - 2^{-52}\\\\\n",
    "m &= 1 - 2^{-52}\n",
    "\\end{align*}\n",
    "$$\n",
    "\n",
    "Consider the IEEE form of floating-point representation\n",
    "\n",
    "$$\n",
    "\\begin{align*}\n",
    "(-1)^s \\cdot (1 + m) \\cdot 2^{e}\n",
    "&= \\cancel{(-1)^0} \\cdot (1 + 1 - 2^{-52}) \\cdot 2^{1023} \\\\\n",
    "&= 2^{1023} \\cdot (2 - 2^{-52})\n",
    "\\end{align*}\n",
    "$$\n",
    "\n",
    "$$\n",
    "\\therefore \\text{The maximum value of 64-bit IEEE float is } 2^{1023}(2 - 2^{-52})\n",
    "$$"
   ]
  }
 ],
 "metadata": {
  "kernelspec": {
   "argv": [
    "/ext/julia/julia-1.9/bin/julia",
    "-i",
    "--startup-file=yes",
    "--color=yes",
    "/ext/julia/depot/packages/IJulia/Vo51o/src/kernel.jl",
    "{connection_file}"
   ],
   "display_name": "Julia 1.9",
   "env": {
    "JULIA_DEPOT_PATH": "/home/user/.julia/:/ext/julia/depot/",
    "JULIA_PROJECT": "/home/user/.julia/environment/v1.9"
   },
   "language": "julia",
   "metadata": {
    "cocalc": {
     "description": "The Julia Programming Language",
     "priority": 5,
     "url": "https://julialang.org/"
    }
   },
   "name": "julia-1.9",
   "resource_dir": "/ext/jupyter/kernels/julia-1.9"
  },
  "language_info": {
   "file_extension": ".jl",
   "mimetype": "application/julia",
   "name": "julia",
   "version": "1.9.1"
  }
 },
 "nbformat": 4,
 "nbformat_minor": 4
}